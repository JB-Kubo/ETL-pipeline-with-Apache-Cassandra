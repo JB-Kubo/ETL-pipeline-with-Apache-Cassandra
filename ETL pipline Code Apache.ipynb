{
 "cells": [
  {
   "cell_type": "markdown",
   "metadata": {},
   "source": [
    "# Part I. ETL Pipeline for Pre-Processing the Files"
   ]
  },
  {
   "cell_type": "markdown",
   "metadata": {},
   "source": [
    "## PLEASE RUN THE FOLLOWING CODE FOR PRE-PROCESSING THE FILES"
   ]
  },
  {
   "cell_type": "markdown",
   "metadata": {},
   "source": [
    "#### Import Python packages "
   ]
  },
  {
   "cell_type": "code",
   "execution_count": 25,
   "metadata": {},
   "outputs": [],
   "source": [
    "# Import Python packages \n",
    "import pandas as pd\n",
    "import cassandra\n",
    "import re\n",
    "import os\n",
    "import glob\n",
    "import numpy as np\n",
    "import json\n",
    "import csv\n",
    "\n"
   ]
  },
  {
   "cell_type": "markdown",
   "metadata": {},
   "source": [
    "#### Creating list of filepaths to process original event csv data files"
   ]
  },
  {
   "cell_type": "code",
   "execution_count": 26,
   "metadata": {},
   "outputs": [
    {
     "name": "stdout",
     "output_type": "stream",
     "text": [
      "/home/workspace\n"
     ]
    }
   ],
   "source": [
    "# checking current working directory\n",
    "print(os.getcwd())\n",
    "\n",
    "# Get  current folder and subfolder event data\n",
    "filepath = os.getcwd() + '/event_data'\n",
    "\n",
    "# Create a for loop to create a list of files and collect each filepath\n",
    "for root, dirs, files in os.walk(filepath):\n",
    "    \n",
    "# join the file path and roots with the subdirectories using glob\n",
    "    file_path_list = glob.glob(os.path.join(root,'*'))\n",
    "    #print(file_path_list)"
   ]
  },
  {
   "cell_type": "markdown",
   "metadata": {},
   "source": [
    "#### Processing the files to create the data file csv that will be used for Apache Casssandra tables"
   ]
  },
  {
   "cell_type": "code",
   "execution_count": 27,
   "metadata": {},
   "outputs": [
    {
     "name": "stdout",
     "output_type": "stream",
     "text": [
      "8056\n"
     ]
    }
   ],
   "source": [
    "# initiating an empty list of rows that will be generated from each file\n",
    "full_data_rows_list = [] \n",
    "    \n",
    "# for every filepath in the file path list \n",
    "for f in file_path_list:\n",
    "\n",
    "# reading csv file \n",
    "    with open(f, 'r', encoding = 'utf8', newline='') as csvfile: \n",
    "        # creating a csv reader object \n",
    "        csvreader = csv.reader(csvfile) \n",
    "        next(csvreader)\n",
    "        \n",
    " # extracting each data row one by one and append it        \n",
    "        for line in csvreader:\n",
    "            #print(line)\n",
    "            full_data_rows_list.append(line) \n",
    "            \n",
    "# uncomment the code below if you would like to get total number of rows \n",
    "print(len(full_data_rows_list))\n",
    "\n",
    "#print(full_data_rows_list)\n",
    "\n",
    "# creating a smaller event data csv file called event_datafile_full csv that will be used to insert data into the \\\n",
    "# Apache Cassandra tables\n",
    "csv.register_dialect('myDialect', quoting=csv.QUOTE_ALL, skipinitialspace=True)\n",
    "\n",
    "with open('event_datafile_new.csv', 'w', encoding = 'utf8', newline='') as f:\n",
    "    writer = csv.writer(f, dialect='myDialect')\n",
    "    writer.writerow(['artist','firstName','gender','itemInSession','lastName','length',\\\n",
    "                'level','location','sessionId','song','userId'])\n",
    "    for row in full_data_rows_list:\n",
    "        if (row[0] == ''):\n",
    "            continue\n",
    "        writer.writerow((row[0], row[2], row[3], row[4], row[5], row[6], row[7], row[8], row[12], row[13], row[16]))\n"
   ]
  },
  {
   "cell_type": "code",
   "execution_count": 28,
   "metadata": {},
   "outputs": [
    {
     "name": "stdout",
     "output_type": "stream",
     "text": [
      "6821\n"
     ]
    }
   ],
   "source": [
    "# checking the number of rows in csv file\n",
    "with open('event_datafile_new.csv', 'r', encoding = 'utf8') as f:\n",
    "    print(sum(1 for line in f))"
   ]
  },
  {
   "cell_type": "markdown",
   "metadata": {},
   "source": [
    "# Part II. Complete the Apache Cassandra coding portion. \n",
    "\n",
    "##  ready to work with the CSV file titled <font color=red>event_datafile_new.csv</font>, located within the Workspace directory.  The event_datafile_new.csv contains the following columns: \n",
    "- artist \n",
    "- firstName of user\n",
    "- gender of user\n",
    "- item number in session\n",
    "- last name of user\n",
    "- length of the song\n",
    "- level (paid or free song)\n",
    "- location of the user\n",
    "- sessionId\n",
    "- song title\n",
    "- userId\n",
    "\n"
   ]
  },
  {
   "cell_type": "markdown",
   "metadata": {},
   "source": [
    "##  code in the cells below"
   ]
  },
  {
   "cell_type": "markdown",
   "metadata": {},
   "source": [
    "#### Creating a Cluster"
   ]
  },
  {
   "cell_type": "code",
   "execution_count": 29,
   "metadata": {},
   "outputs": [],
   "source": [
    "#  making a connection to a Cassandra instance on local machine \n",
    "# (127.0.0.1)\n",
    "\n",
    "from cassandra.cluster import Cluster\n",
    "try: \n",
    "    cluster = Cluster(['127.0.0.1']) \n",
    "    session = cluster.connect()\n",
    "except Exception as e:\n",
    "    print(e)\n",
    "\n",
    "\n",
    "#establishing a connection to begin executing queries, making a session session\n"
   ]
  },
  {
   "cell_type": "markdown",
   "metadata": {},
   "source": [
    "#### Creating a Keyspace"
   ]
  },
  {
   "cell_type": "code",
   "execution_count": 30,
   "metadata": {},
   "outputs": [],
   "source": [
    "#Creating a Keyspace \n",
    "try:\n",
    "    session.execute(\"\"\"\n",
    "    CREATE KEYSPACE IF NOT EXISTS udacity \n",
    "    WITH REPLICATION = \n",
    "    { 'class' : 'SimpleStrategy', 'replication_factor' : 1 }\"\"\"\n",
    ")\n",
    "\n",
    "except Exception as e:\n",
    "    print(e)"
   ]
  },
  {
   "cell_type": "markdown",
   "metadata": {},
   "source": [
    "#### Set Keyspace"
   ]
  },
  {
   "cell_type": "code",
   "execution_count": 31,
   "metadata": {},
   "outputs": [],
   "source": [
    "#Setting KEYSPACE to the keyspace specified above\n",
    "try:\n",
    "    session.set_keyspace('udacity')\n",
    "except Exception as e:\n",
    "    print(e)\n"
   ]
  },
  {
   "cell_type": "markdown",
   "metadata": {},
   "source": [
    "## Create queries to ask the following three questions of the data\n",
    "\n",
    "### 1. Give me the artist, song title and song's length in the music app history that was heard during  sessionId = 338, and itemInSession  = 4\n",
    "\n",
    "\n",
    "### 2. Give me only the following: name of artist, song (sorted by itemInSession) and user (first and last name) for userid = 10, sessionid = 182\n",
    "    \n",
    "\n",
    "### 3. Give me every user name (first and last) in my music app history who listened to the song 'All Hands Against His Own'\n",
    "\n",
    "\n"
   ]
  },
  {
   "cell_type": "markdown",
   "metadata": {
    "scrolled": false
   },
   "source": [
    "# Solution Query 1 "
   ]
  },
  {
   "cell_type": "code",
   "execution_count": 32,
   "metadata": {},
   "outputs": [
    {
     "name": "stdout",
     "output_type": "stream",
     "text": [
      " artist: Faithless, song: Music Matters (Mark Knight Dub), lenght: 495.3073\n"
     ]
    }
   ],
   "source": [
    "# making a Table that will Query \n",
    "# the artist, song title and song's length in the music app history\n",
    "# that was heard during sessionId = 338, and itemInSession = 4\n",
    "\n",
    "\n",
    "#====================================================\n",
    "# Creating table song_length\n",
    "# the userId and sessionId was used as a composite partition key \n",
    "# because the queries will filter by these columns. \n",
    "# The itemInSession were used as clustering column \n",
    "# to help make up a unique key.\n",
    "#====================================================\n",
    "\n",
    "\n",
    "#========\n",
    "# creating the table \n",
    "#========\n",
    "\n",
    "session.execute( \"\"\"CREATE TABLE IF NOT EXISTS song_length \n",
    "(sessionid int,iteminsession int ,artist text , song text, length double\n",
    ", PRIMARY KEY ( sessionid, iteminsession ))\"\"\") \n",
    "\n",
    "\n",
    "#==========\n",
    "# inserting tha data \n",
    "#===========\n",
    "file = 'event_datafile_new.csv'\n",
    "\n",
    "with open(file, encoding = 'utf8') as f:\n",
    "    csvreader = csv.reader(f)\n",
    "    next(csvreader)\n",
    "    for line in csvreader:\n",
    "\n",
    "        query = \"INSERT INTO song_length  (artist, song , length, sessionid , iteminsession)\"\n",
    "        query = query + \"VALUES (%s, %s, %s, %s ,%s)\"\n",
    "        \n",
    "        session.execute(query, (line[0], line[9], float(line[5]), int(line[8]), int(line[3])))\n",
    "\n",
    "#==========\n",
    "# checking the data \n",
    "#==========\n",
    "        \n",
    "query = \"select * from song_length  WHERE sessionId = 338 and itemInSession = 4\"\n",
    "\n",
    "## geting the artist, song title and song's length in the music app history\n",
    "## that was heard during sessionId = 338, and itemInSession = 4\n",
    "\n",
    "try:\n",
    "    rows = session.execute(query)\n",
    "except Exception as e:\n",
    "    print(e)\n",
    "    \n",
    "for row in rows:\n",
    "    print (f' artist: {row.artist}, song: {row.song}, lenght: {row.length}')        "
   ]
  },
  {
   "cell_type": "markdown",
   "metadata": {},
   "source": [
    "# Solution Query 2"
   ]
  },
  {
   "cell_type": "code",
   "execution_count": 18,
   "metadata": {
    "scrolled": true
   },
   "outputs": [
    {
     "name": "stdout",
     "output_type": "stream",
     "text": [
      "artist: Down To The Bone, song: Keep On Keepin' On, user first name: Sylvie,user last name: Cruz\n",
      "artist: Three Drives, song: Greece 2000, user first name: Sylvie,user last name: Cruz\n",
      "artist: Sebastien Tellier, song: Kilometer, user first name: Sylvie,user last name: Cruz\n",
      "artist: Lonnie Gordon, song: Catch You Baby (Steve Pitron & Max Sanna Radio Edit), user first name: Sylvie,user last name: Cruz\n"
     ]
    }
   ],
   "source": [
    "# making a Table that will Query \n",
    "# name of artist, song (sorted by itemInSession) and user (first and last name) \n",
    "# for userid = 10, sessionid = 182\n",
    "\n",
    "\n",
    "#====================================================\n",
    "# Creating table artist_song\n",
    "# the userId and sessionId was used as a composite partition key \n",
    "# because the queries will filter by these columns. \n",
    "# The itemInSession were used as clustering column \n",
    "# to help make up a unique key.\n",
    "#====================================================\n",
    "\n",
    "\n",
    "\n",
    "\n",
    "#========\n",
    "# creating the table \n",
    "#========\n",
    "\n",
    "session.execute(\"\"\"CREATE TABLE IF NOT EXISTS artist_song \n",
    "(userId int ,sessionid int, iteminsession int ,artist text, firstname text  , song text, lastname text,  \n",
    "PRIMARY KEY ((userId, sessionId), itemInSession)) \"\"\")\n",
    "\n",
    "#==========\n",
    "# inserting tha data \n",
    "#===========\n",
    "file = 'event_datafile_new.csv'    \n",
    "\n",
    "with open(file, encoding = 'utf8') as f:\n",
    "    csvreader = csv.reader(f)\n",
    "    next(csvreader)\n",
    "    for line in csvreader:\n",
    "        \n",
    "        query = \"INSERT INTO artist_song  (artist, song, firstname, lastname , userId, sessionId, itemInSession)\"\n",
    "        query = query + \"VALUES (%s, %s, %s, %s ,%s ,%s ,%s)\"\n",
    "        \n",
    "    \n",
    "        session.execute(query , (line[0], line[9], line[1], line[4], int(line[10]), int(line[8]), int(line[3])) )\n",
    "          \n",
    "#==========\n",
    "# checking the data \n",
    "#==========\n",
    "\n",
    "\n",
    "query = \"select artist, song, firstname, lastname from artist_song WHERE userId= 10 and sessionId = 182\"\n",
    "\n",
    "## getting name of artist, \n",
    "## song (sorted by itemInSession) and user (first and last name) \n",
    "## for userid = 10, sessionid = 182\n",
    "\n",
    "try:\n",
    "    rows = session.execute(query)\n",
    "except Exception as e:\n",
    "    print(e)\n",
    "    \n",
    "for row in rows:\n",
    "       print(f'artist: {row.artist}, song: {row.song}, user first name: {row.firstname},user last name: {row.lastname}')"
   ]
  },
  {
   "cell_type": "markdown",
   "metadata": {},
   "source": [
    "# Solution Query 3"
   ]
  },
  {
   "cell_type": "code",
   "execution_count": 37,
   "metadata": {},
   "outputs": [
    {
     "name": "stdout",
     "output_type": "stream",
     "text": [
      "User Name: Jacqueline Lynch\n",
      "User Name: Tegan Levine\n",
      "User Name: Sara Johnson\n"
     ]
    }
   ],
   "source": [
    "# making a Table that wil Query \n",
    "# every user name (first and last) in my music app history who\n",
    "#listened to the song 'All Hands Against His Own' \n",
    "\n",
    "#===============================\n",
    "# creating song_listeners \n",
    "# where song table is the primary key \n",
    "# because we will be filtering by this colums \n",
    "# and userid as partitionkey \n",
    "# to make a unique Key\n",
    "#================================\n",
    "\n",
    "\n",
    "#=========\n",
    "# creating Table \n",
    "#===========\n",
    "\n",
    "session.execute(\"\"\"CREATE TABLE IF NOT EXISTS song_listeners \n",
    "(song text, userid  int ,first_name text, last_name text, PRIMARY KEY(song, userid));\"\"\")\n",
    "\n",
    "file = 'event_datafile_new.csv'\n",
    "\n",
    "with open(file, encoding = 'utf8') as f:\n",
    "    csvreader = csv.reader(f)\n",
    "    next(csvreader) \n",
    "    for line in csvreader:\n",
    "        query = \"INSERT INTO song_listeners (song, userid , first_name, last_name)\"  \n",
    "        query = query + \"VALUES (%s, %s, %s, %s) IF NOT EXISTS \"\n",
    "        session.execute(query, (line[9], int(line[10]), line[1], line[4]) )\n",
    "        \n",
    "    \n",
    "query =  \"SELECT first_name, last_name FROM song_listeners WHERE song = 'All Hands Against His Own'\"\n",
    "\n",
    "## getting every user name (first and last) in my music app history who\n",
    "## listened to the song 'All Hands Against His Own' \n",
    "\n",
    "try:\n",
    "    rows = session.execute(query)\n",
    "except Exception as e:\n",
    "    print(e)\n",
    "    \n",
    "    \n",
    "for row in rows :\n",
    "    print (f'User Name: {row.first_name} {row.last_name}')"
   ]
  },
  {
   "cell_type": "markdown",
   "metadata": {},
   "source": [
    "### Drop the tables before closing out the sessions"
   ]
  },
  {
   "cell_type": "code",
   "execution_count": 47,
   "metadata": {},
   "outputs": [
    {
     "data": {
      "text/plain": [
       "<cassandra.cluster.ResultSet at 0x7fcf8c60a7f0>"
      ]
     },
     "execution_count": 47,
     "metadata": {},
     "output_type": "execute_result"
    }
   ],
   "source": [
    "session.execute(\" DROP TABLE   song_length \" )\n",
    "session.execute(\" DROP TABLE   artist_song\" )\n",
    "session.execute(\" DROP TABLE   song_listeners\" )\n"
   ]
  },
  {
   "cell_type": "markdown",
   "metadata": {},
   "source": [
    "### Close the session and cluster connection¶"
   ]
  },
  {
   "cell_type": "code",
   "execution_count": 20,
   "metadata": {},
   "outputs": [],
   "source": [
    "session.shutdown()\n",
    "cluster.shutdown()"
   ]
  }
 ],
 "metadata": {
  "kernelspec": {
   "display_name": "Python 3 (ipykernel)",
   "language": "python",
   "name": "python3"
  },
  "language_info": {
   "codemirror_mode": {
    "name": "ipython",
    "version": 3
   },
   "file_extension": ".py",
   "mimetype": "text/x-python",
   "name": "python",
   "nbconvert_exporter": "python",
   "pygments_lexer": "ipython3",
   "version": "3.9.7"
  }
 },
 "nbformat": 4,
 "nbformat_minor": 2
}
